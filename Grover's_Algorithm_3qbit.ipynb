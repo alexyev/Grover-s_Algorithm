{
  "nbformat": 4,
  "nbformat_minor": 0,
  "metadata": {
    "colab": {
      "name": "Grover's_Algorithm_3qbit.ipynb",
      "provenance": [],
      "collapsed_sections": [],
      "authorship_tag": "ABX9TyNjxcADqNgQJ1CPQ+jMknlU",
      "include_colab_link": true
    },
    "kernelspec": {
      "name": "python3",
      "display_name": "Python 3"
    },
    "language_info": {
      "name": "python"
    }
  },
  "cells": [
    {
      "cell_type": "markdown",
      "metadata": {
        "id": "view-in-github",
        "colab_type": "text"
      },
      "source": [
        "<a href=\"https://colab.research.google.com/github/alexyev/Grover-s_Algorithm/blob/main/Grover's_Algorithm_3qbit.ipynb\" target=\"_parent\"><img src=\"https://colab.research.google.com/assets/colab-badge.svg\" alt=\"Open In Colab\"/></a>"
      ]
    },
    {
      "cell_type": "code",
      "metadata": {
        "id": "etDQz1XavsPM"
      },
      "source": [
        "import matplotlib.pyplot as plt\n",
        "import numpy as np\n",
        "!pip install qiskit\n",
        "from qiskit import IBMQ, Aer, assemble, transpile, execute\n",
        "from qiskit import QuantumCircuit, ClassicalRegister, QuantumRegister\n",
        "from qiskit.providers.ibmq import least_busy\n",
        "!pip install qiskit.visualization\n",
        "from qiskit.visualization import *\n",
        "from qiskit.tools.jupyter import *\n",
        "!pip install ibm_quantum_widgets\n",
        "from ibm_quantum_widgets import *\n",
        "from qiskit.tools.monitor import job_monitor"
      ],
      "execution_count": null,
      "outputs": []
    },
    {
      "cell_type": "markdown",
      "metadata": {
        "id": "NzOaCMTD743Y"
      },
      "source": [
        "Let's solve Grover's Algorithm on 3 qubits with 2 possible solutions."
      ]
    },
    {
      "cell_type": "code",
      "metadata": {
        "id": "fox4iWon8AtR"
      },
      "source": [
        "def initialize_circuit(qc, qubits):\n",
        "  for q in qubits:\n",
        "    qc.h(q)\n",
        "  return qc"
      ],
      "execution_count": null,
      "outputs": []
    },
    {
      "cell_type": "code",
      "metadata": {
        "id": "vOk-KafmBusb"
      },
      "source": [
        "qc = QuantumCircuit(3)\n",
        "qc.cz(0, 2)\n",
        "qc.cz(1, 2)\n",
        "oracle_3 = qc.to_gate()\n",
        "oracle_3.name = \"Uω\""
      ],
      "execution_count": null,
      "outputs": []
    },
    {
      "cell_type": "markdown",
      "metadata": {
        "id": "65MWHrZJEgf3"
      },
      "source": [
        "Here, we create an oracle function that will look for 2 specific states: |101〉 and |110〉."
      ]
    },
    {
      "cell_type": "code",
      "metadata": {
        "id": "cyCL84o2ChmQ"
      },
      "source": [
        "def diffuser(qubits):\n",
        "  qc = QuantumCircuit(qubits)\n",
        "  for qubit in range(qubits):\n",
        "    qc.h(qubit) \n",
        "  for qubit in range(qubits):\n",
        "    qc.x(qubit)\n",
        "  qc.h(qubits-1)\n",
        "  qc.mct(list(range(qubits-1)), qubits -1)\n",
        "  qc.h(qubits-1)\n",
        "  for qubit in range(qubits):\n",
        "    qc.x(qubit)\n",
        "  for qubit in range(qubits):\n",
        "    qc.h(qubit)\n",
        "  U_s = qc.to_gate()\n",
        "  U_s.name = \"Us\"\n",
        "  return U_s\n"
      ],
      "execution_count": null,
      "outputs": []
    },
    {
      "cell_type": "markdown",
      "metadata": {
        "id": "c3rIydWHF1Xo"
      },
      "source": [
        "Here, we define a general diffuser function that will work on any number of qubits passed in."
      ]
    },
    {
      "cell_type": "code",
      "metadata": {
        "colab": {
          "base_uri": "https://localhost:8080/",
          "height": 155
        },
        "id": "YkGSZO2zEbaX",
        "outputId": "46ae2d65-8f4e-4d9b-931d-9adb7116a291"
      },
      "source": [
        "n_qubits = 3\n",
        "grover_circuit = QuantumCircuit(n_qubits)\n",
        "grover_circuit = initialize_circuit(grover_circuit, [0, 1, 2])\n",
        "grover_circuit.append(oracle_3, [0, 1, 2])\n",
        "grover_circuit.append(diffuser(n_qubits), [0, 1, 2])\n",
        "grover_circuit.measure_all()\n",
        "grover_circuit.draw()"
      ],
      "execution_count": null,
      "outputs": [
        {
          "output_type": "execute_result",
          "data": {
            "text/html": [
              "<pre style=\"word-wrap: normal;white-space: pre;background: #fff0;line-height: 1.1;font-family: &quot;Courier New&quot;,Courier,monospace\">        ┌───┐┌─────┐┌─────┐ ░ ┌─┐      \n",
              "   q_0: ┤ H ├┤0    ├┤0    ├─░─┤M├──────\n",
              "        ├───┤│     ││     │ ░ └╥┘┌─┐   \n",
              "   q_1: ┤ H ├┤1 Uω ├┤1 Us ├─░──╫─┤M├───\n",
              "        ├───┤│     ││     │ ░  ║ └╥┘┌─┐\n",
              "   q_2: ┤ H ├┤2    ├┤2    ├─░──╫──╫─┤M├\n",
              "        └───┘└─────┘└─────┘ ░  ║  ║ └╥┘\n",
              "meas: 3/═══════════════════════╩══╩══╩═\n",
              "                               0  1  2 </pre>"
            ],
            "text/plain": [
              "        ┌───┐┌─────┐┌─────┐ ░ ┌─┐      \n",
              "   q_0: ┤ H ├┤0    ├┤0    ├─░─┤M├──────\n",
              "        ├───┤│     ││     │ ░ └╥┘┌─┐   \n",
              "   q_1: ┤ H ├┤1 Uω ├┤1 Us ├─░──╫─┤M├───\n",
              "        ├───┤│     ││     │ ░  ║ └╥┘┌─┐\n",
              "   q_2: ┤ H ├┤2    ├┤2    ├─░──╫──╫─┤M├\n",
              "        └───┘└─────┘└─────┘ ░  ║  ║ └╥┘\n",
              "meas: 3/═══════════════════════╩══╩══╩═\n",
              "                               0  1  2 "
            ]
          },
          "metadata": {},
          "execution_count": 18
        }
      ]
    },
    {
      "cell_type": "code",
      "metadata": {
        "colab": {
          "base_uri": "https://localhost:8080/",
          "height": 339
        },
        "id": "0QPiOcbOG1ZF",
        "outputId": "b9dcecea-af47-429b-900d-b9d34a109fd3"
      },
      "source": [
        "backend = Aer.get_backend('qasm_simulator')\n",
        "transpiled_grover_circuit = transpile(grover_circuit, backend)\n",
        "job = execute(transpiled_grover_circuit, backend)\n",
        "result = job.result()\n",
        "counts = result.get_counts()\n",
        "plot_histogram(counts)"
      ],
      "execution_count": null,
      "outputs": [
        {
          "output_type": "execute_result",
          "data": {
            "image/png": "[encoded data removed]",
            "text/plain": [
              "<Figure size 504x360 with 1 Axes>"
            ]
          },
          "metadata": {},
          "execution_count": 21
        }
      ]
    },
    {
      "cell_type": "code",
      "metadata": {
        "colab": {
          "base_uri": "https://localhost:8080/"
        },
        "id": "s97BrWKuIS6r",
        "outputId": "a9785b6f-0fb5-4630-9940-fea75ca7f8b2"
      },
      "source": [
        "provider = IBMQ.load_account()\n",
        "device_2 = least_busy(provider.backends(filters=lambda x: x.configuration().n_qubits >= 3 and \n",
        "                                   not x.configuration().simulator and x.status().operational==True))\n",
        "print(device_2)"
      ],
      "execution_count": null,
      "outputs": [
        {
          "output_type": "stream",
          "name": "stderr",
          "text": [
            "ibmqfactory.load_account:WARNING:2021-11-29 00:46:16,747: Credentials are already in use. The existing account in the session will be replaced.\n"
          ]
        },
        {
          "output_type": "stream",
          "name": "stdout",
          "text": [
            "ibmq_belem\n"
          ]
        }
      ]
    },
    {
      "cell_type": "code",
      "metadata": {
        "colab": {
          "base_uri": "https://localhost:8080/",
          "height": 35
        },
        "id": "PiLVROUQJT5k",
        "outputId": "7becfb6b-1530-454d-876d-105fe91b37be"
      },
      "source": [
        "transpiled_grover_circuit_2 = transpile(grover_circuit, backend_2, optimization_level=3)\n",
        "job = device_2.run(transpiled_grover_circuit_2)\n",
        "job_monitor(job, interval=2)"
      ],
      "execution_count": null,
      "outputs": [
        {
          "output_type": "stream",
          "name": "stdout",
          "text": [
            "Job Status: job has successfully run\n"
          ]
        }
      ]
    },
    {
      "cell_type": "code",
      "metadata": {
        "colab": {
          "base_uri": "https://localhost:8080/",
          "height": 340
        },
        "id": "0f-GaAsEKQbz",
        "outputId": "4e1aae7c-f476-4d52-eefb-4faec2c605c6"
      },
      "source": [
        "results_2 = job.result()\n",
        "answer_2 = results_2.get_counts()\n",
        "plot_histogram(answer_2)"
      ],
      "execution_count": null,
      "outputs": [
        {
          "output_type": "execute_result",
          "data": {
            "image/png": "[encoded data removed]",
            "text/plain": [
              "<Figure size 504x360 with 1 Axes>"
            ]
          },
          "metadata": {},
          "execution_count": 30
        }
      ]
    },
    {
      "cell_type": "code",
      "metadata": {
        "id": "EQV75Q0aKvka"
      },
      "source": [
        ""
      ],
      "execution_count": null,
      "outputs": []
    }
  ]
}